{
 "cells": [
  {
   "cell_type": "markdown",
   "metadata": {},
   "source": [
    "# ML Project: Fraud Detection for STEG\n",
    "\n",
    "The Tunisian Company of Electricity and Gas (STEG) is a public and a non-administrative company, it is responsible for delivering electricity and gas across Tunisia. The company suffered tremendous losses in the order of 200 million Tunisian Dinars due to fraudulent manipulations of meters by consumers. Using the client’s billing history, our aim is to detect and recognize clients involved in fraudulent activities.\n",
    "\n",
    "## Data Product\n",
    "\n",
    "- Goal: develop fraud-detection system that identifies clients involved in fraudulent activities while leaving non-fraudulent clients aside. \n",
    "- Value of Product: enhance the company’s revenues by reducing the losses caused by fraudulent activities, avoid reputation damage.\n",
    "- Evaluation Metric: ROC-AUC (True Positive Rate and True Negative Rate will also be inspected).\n",
    "- Baseline Model: coin toss, since no intuitive baseline model gave good results."
   ]
  },
  {
   "cell_type": "markdown",
   "metadata": {},
   "source": [
    "## Setup"
   ]
  },
  {
   "cell_type": "code",
   "execution_count": 1,
   "metadata": {},
   "outputs": [],
   "source": [
    "import pandas as pd\n",
    "import polars as pl\n",
    "import numpy as np\n",
    "import missingno as msno\n",
    "import time\n",
    "import matplotlib.pyplot as plt\n",
    "import seaborn as sns\n",
    "from sklearn.metrics import confusion_matrix, roc_auc_score, f1_score, accuracy_score, recall_score, ConfusionMatrixDisplay\n",
    "from sklearn.ensemble import RandomForestClassifier, AdaBoostClassifier, ExtraTreesClassifier\n",
    "from sklearn.preprocessing import StandardScaler\n",
    "from sklearn.neighbors import KNeighborsClassifier\n",
    "from sklearn.naive_bayes import GaussianNB\n",
    "from sklearn.model_selection import train_test_split, GridSearchCV\n",
    "from sklearn.tree import DecisionTreeClassifier\n",
    "from sklearn.linear_model import LogisticRegression\n",
    "from xgboost import XGBClassifier\n",
    "from lightgbm import LGBMClassifier\n",
    "from catboost import CatBoostClassifier\n",
    "from sklearn.utils import resample\n",
    "from sklearn.pipeline import Pipeline\n",
    "from sklearn.metrics import roc_curve\n",
    "\n",
    "import warnings\n",
    "warnings.filterwarnings('ignore')\n",
    "sns.set_theme(context='notebook', style='darkgrid')\n",
    "\n",
    "RSEED = 12345"
   ]
  },
  {
   "cell_type": "markdown",
   "metadata": {},
   "source": [
    "## Data Import and Cleaning\n",
    "\n",
    "The following column documentation was provided by the STEG:\n",
    "\n",
    "- Client_id: Unique id for client\n",
    "- District: District where the client is\n",
    "- Client_catg: Category client belongs to\n",
    "- Region: Area where the client is\n",
    "- Creation_date: Date client joined\n",
    "- Target: fraud:1 , not fraud: 0\n",
    "- Invoice_date: Date of the invoice\n",
    "- Tarif_type: Type of tax\n",
    "- Counter_number:\n",
    "- Counter_statue: takes up to 5 values such as working fine, not working, on hold statue, ect\n",
    "- Counter_code:\n",
    "- Reading_remarque: notes that the STEG agent takes during his visit to the client (e.g: If the counter shows something wrong, the agent gives a bad score)\n",
    "- Counter_coefficient: An additional coefficient to be added when standard consumption is exceeded\n",
    "- Consommation_level_1: Consumption_level_1\n",
    "- Consommation_level_2: Consumption_level_2\n",
    "- Consommation_level_3: Consumption_level_3\n",
    "- Consommation_level_4: Consumption_level_4\n",
    "- Old_index: Old index\n",
    "- New_index: New index\n",
    "- Months_number: Month number\n",
    "- Counter_type: Type of counter\n",
    "\n",
    "Unfortunately, this is not a very good documentation. Some columns are left unexplained, and most explanations are not helpful."
   ]
  },
  {
   "cell_type": "code",
   "execution_count": 2,
   "metadata": {},
   "outputs": [
    {
     "name": "stdout",
     "output_type": "stream",
     "text": [
      "Number of dropped duplicate rows: 11\n",
      "Number of nulls: 0\n"
     ]
    },
    {
     "data": {
      "text/html": [
       "<div><style>\n",
       ".dataframe > thead > tr,\n",
       ".dataframe > tbody > tr {\n",
       "  text-align: right;\n",
       "  white-space: pre-wrap;\n",
       "}\n",
       "</style>\n",
       "<small>shape: (4_476_691, 21)</small><table border=\"1\" class=\"dataframe\"><thead><tr><th>client_id</th><th>invoice_date</th><th>tarif_type</th><th>counter_number</th><th>counter_statue</th><th>counter_code</th><th>reading_remarque</th><th>counter_coefficient</th><th>consommation_level_1</th><th>consommation_level_2</th><th>consommation_level_3</th><th>consommation_level_4</th><th>old_index</th><th>new_index</th><th>months_number</th><th>counter_type</th><th>disrict</th><th>client_catg</th><th>region</th><th>creation_date</th><th>target</th></tr><tr><td>str</td><td>datetime[μs]</td><td>i64</td><td>i64</td><td>i64</td><td>i64</td><td>i64</td><td>i64</td><td>i64</td><td>i64</td><td>i64</td><td>i64</td><td>i64</td><td>i64</td><td>i64</td><td>i64</td><td>i64</td><td>i64</td><td>i64</td><td>datetime[μs]</td><td>i8</td></tr></thead><tbody><tr><td>&quot;train_Client_9515&quot;</td><td>2016-03-08 00:00:00</td><td>11</td><td>1056043</td><td>0</td><td>207</td><td>6</td><td>1</td><td>376</td><td>0</td><td>0</td><td>0</td><td>11041</td><td>11417</td><td>4</td><td>1</td><td>69</td><td>11</td><td>104</td><td>2006-07-17 00:00:00</td><td>0</td></tr><tr><td>&quot;train_Client_133730&quot;</td><td>2018-06-02 00:00:00</td><td>10</td><td>564049</td><td>0</td><td>202</td><td>9</td><td>1</td><td>31</td><td>0</td><td>0</td><td>0</td><td>9483</td><td>9514</td><td>3</td><td>1</td><td>62</td><td>11</td><td>301</td><td>2017-11-01 00:00:00</td><td>0</td></tr><tr><td>&quot;train_Client_104377&quot;</td><td>2010-05-07 00:00:00</td><td>40</td><td>51133</td><td>0</td><td>5</td><td>6</td><td>1</td><td>0</td><td>0</td><td>0</td><td>0</td><td>0</td><td>0</td><td>4</td><td>0</td><td>60</td><td>11</td><td>101</td><td>1994-05-27 00:00:00</td><td>0</td></tr><tr><td>&quot;train_Client_39419&quot;</td><td>2015-09-22 00:00:00</td><td>11</td><td>12115</td><td>0</td><td>203</td><td>9</td><td>1</td><td>1371</td><td>0</td><td>0</td><td>0</td><td>2310</td><td>3681</td><td>8</td><td>1</td><td>62</td><td>11</td><td>303</td><td>2000-10-04 00:00:00</td><td>1</td></tr><tr><td>&quot;train_Client_111912&quot;</td><td>2018-04-06 00:00:00</td><td>40</td><td>45266</td><td>0</td><td>5</td><td>8</td><td>1</td><td>118</td><td>0</td><td>0</td><td>0</td><td>4129</td><td>4247</td><td>4</td><td>0</td><td>62</td><td>11</td><td>303</td><td>2008-01-14 00:00:00</td><td>0</td></tr><tr><td>&hellip;</td><td>&hellip;</td><td>&hellip;</td><td>&hellip;</td><td>&hellip;</td><td>&hellip;</td><td>&hellip;</td><td>&hellip;</td><td>&hellip;</td><td>&hellip;</td><td>&hellip;</td><td>&hellip;</td><td>&hellip;</td><td>&hellip;</td><td>&hellip;</td><td>&hellip;</td><td>&hellip;</td><td>&hellip;</td><td>&hellip;</td><td>&hellip;</td><td>&hellip;</td></tr><tr><td>&quot;train_Client_21544&quot;</td><td>2014-02-14 00:00:00</td><td>11</td><td>665151</td><td>0</td><td>203</td><td>9</td><td>1</td><td>433</td><td>0</td><td>0</td><td>0</td><td>21563</td><td>21996</td><td>4</td><td>1</td><td>60</td><td>11</td><td>101</td><td>1987-06-22 00:00:00</td><td>0</td></tr><tr><td>&quot;train_Client_81306&quot;</td><td>2015-04-15 00:00:00</td><td>11</td><td>57989</td><td>0</td><td>203</td><td>8</td><td>1</td><td>362</td><td>0</td><td>0</td><td>0</td><td>11264</td><td>11626</td><td>4</td><td>1</td><td>63</td><td>11</td><td>306</td><td>2010-04-07 00:00:00</td><td>0</td></tr><tr><td>&quot;train_Client_86492&quot;</td><td>2013-11-12 00:00:00</td><td>11</td><td>703382</td><td>1</td><td>203</td><td>9</td><td>1</td><td>1200</td><td>622</td><td>0</td><td>0</td><td>40951</td><td>42773</td><td>4</td><td>1</td><td>62</td><td>11</td><td>371</td><td>2008-02-18 00:00:00</td><td>0</td></tr><tr><td>&quot;train_Client_50773&quot;</td><td>2008-05-19 00:00:00</td><td>11</td><td>973932</td><td>0</td><td>203</td><td>6</td><td>1</td><td>0</td><td>0</td><td>0</td><td>0</td><td>693</td><td>693</td><td>4</td><td>1</td><td>63</td><td>11</td><td>311</td><td>2005-05-26 00:00:00</td><td>0</td></tr><tr><td>&quot;train_Client_24762&quot;</td><td>2015-02-04 00:00:00</td><td>40</td><td>0</td><td>0</td><td>5</td><td>6</td><td>1</td><td>0</td><td>0</td><td>0</td><td>0</td><td>0</td><td>0</td><td>4</td><td>0</td><td>63</td><td>11</td><td>306</td><td>1988-08-12 00:00:00</td><td>0</td></tr></tbody></table></div>"
      ],
      "text/plain": [
       "shape: (4_476_691, 21)\n",
       "┌────────────┬────────────┬────────────┬────────────┬───┬────────────┬────────┬───────────┬────────┐\n",
       "│ client_id  ┆ invoice_da ┆ tarif_type ┆ counter_nu ┆ … ┆ client_cat ┆ region ┆ creation_ ┆ target │\n",
       "│ ---        ┆ te         ┆ ---        ┆ mber       ┆   ┆ g          ┆ ---    ┆ date      ┆ ---    │\n",
       "│ str        ┆ ---        ┆ i64        ┆ ---        ┆   ┆ ---        ┆ i64    ┆ ---       ┆ i8     │\n",
       "│            ┆ datetime[μ ┆            ┆ i64        ┆   ┆ i64        ┆        ┆ datetime[ ┆        │\n",
       "│            ┆ s]         ┆            ┆            ┆   ┆            ┆        ┆ μs]       ┆        │\n",
       "╞════════════╪════════════╪════════════╪════════════╪═══╪════════════╪════════╪═══════════╪════════╡\n",
       "│ train_Clie ┆ 2016-03-08 ┆ 11         ┆ 1056043    ┆ … ┆ 11         ┆ 104    ┆ 2006-07-1 ┆ 0      │\n",
       "│ nt_9515    ┆ 00:00:00   ┆            ┆            ┆   ┆            ┆        ┆ 7         ┆        │\n",
       "│            ┆            ┆            ┆            ┆   ┆            ┆        ┆ 00:00:00  ┆        │\n",
       "│ train_Clie ┆ 2018-06-02 ┆ 10         ┆ 564049     ┆ … ┆ 11         ┆ 301    ┆ 2017-11-0 ┆ 0      │\n",
       "│ nt_133730  ┆ 00:00:00   ┆            ┆            ┆   ┆            ┆        ┆ 1         ┆        │\n",
       "│            ┆            ┆            ┆            ┆   ┆            ┆        ┆ 00:00:00  ┆        │\n",
       "│ train_Clie ┆ 2010-05-07 ┆ 40         ┆ 51133      ┆ … ┆ 11         ┆ 101    ┆ 1994-05-2 ┆ 0      │\n",
       "│ nt_104377  ┆ 00:00:00   ┆            ┆            ┆   ┆            ┆        ┆ 7         ┆        │\n",
       "│            ┆            ┆            ┆            ┆   ┆            ┆        ┆ 00:00:00  ┆        │\n",
       "│ train_Clie ┆ 2015-09-22 ┆ 11         ┆ 12115      ┆ … ┆ 11         ┆ 303    ┆ 2000-10-0 ┆ 1      │\n",
       "│ nt_39419   ┆ 00:00:00   ┆            ┆            ┆   ┆            ┆        ┆ 4         ┆        │\n",
       "│            ┆            ┆            ┆            ┆   ┆            ┆        ┆ 00:00:00  ┆        │\n",
       "│ train_Clie ┆ 2018-04-06 ┆ 40         ┆ 45266      ┆ … ┆ 11         ┆ 303    ┆ 2008-01-1 ┆ 0      │\n",
       "│ nt_111912  ┆ 00:00:00   ┆            ┆            ┆   ┆            ┆        ┆ 4         ┆        │\n",
       "│            ┆            ┆            ┆            ┆   ┆            ┆        ┆ 00:00:00  ┆        │\n",
       "│ …          ┆ …          ┆ …          ┆ …          ┆ … ┆ …          ┆ …      ┆ …         ┆ …      │\n",
       "│ train_Clie ┆ 2014-02-14 ┆ 11         ┆ 665151     ┆ … ┆ 11         ┆ 101    ┆ 1987-06-2 ┆ 0      │\n",
       "│ nt_21544   ┆ 00:00:00   ┆            ┆            ┆   ┆            ┆        ┆ 2         ┆        │\n",
       "│            ┆            ┆            ┆            ┆   ┆            ┆        ┆ 00:00:00  ┆        │\n",
       "│ train_Clie ┆ 2015-04-15 ┆ 11         ┆ 57989      ┆ … ┆ 11         ┆ 306    ┆ 2010-04-0 ┆ 0      │\n",
       "│ nt_81306   ┆ 00:00:00   ┆            ┆            ┆   ┆            ┆        ┆ 7         ┆        │\n",
       "│            ┆            ┆            ┆            ┆   ┆            ┆        ┆ 00:00:00  ┆        │\n",
       "│ train_Clie ┆ 2013-11-12 ┆ 11         ┆ 703382     ┆ … ┆ 11         ┆ 371    ┆ 2008-02-1 ┆ 0      │\n",
       "│ nt_86492   ┆ 00:00:00   ┆            ┆            ┆   ┆            ┆        ┆ 8         ┆        │\n",
       "│            ┆            ┆            ┆            ┆   ┆            ┆        ┆ 00:00:00  ┆        │\n",
       "│ train_Clie ┆ 2008-05-19 ┆ 11         ┆ 973932     ┆ … ┆ 11         ┆ 311    ┆ 2005-05-2 ┆ 0      │\n",
       "│ nt_50773   ┆ 00:00:00   ┆            ┆            ┆   ┆            ┆        ┆ 6         ┆        │\n",
       "│            ┆            ┆            ┆            ┆   ┆            ┆        ┆ 00:00:00  ┆        │\n",
       "│ train_Clie ┆ 2015-02-04 ┆ 40         ┆ 0          ┆ … ┆ 11         ┆ 306    ┆ 1988-08-1 ┆ 0      │\n",
       "│ nt_24762   ┆ 00:00:00   ┆            ┆            ┆   ┆            ┆        ┆ 2         ┆        │\n",
       "│            ┆            ┆            ┆            ┆   ┆            ┆        ┆ 00:00:00  ┆        │\n",
       "└────────────┴────────────┴────────────┴────────────┴───┴────────────┴────────┴───────────┴────────┘"
      ]
     },
     "metadata": {},
     "output_type": "display_data"
    }
   ],
   "source": [
    "# Loading the data\n",
    "df_client = pl.read_csv(\"data/client_train.csv\", ignore_errors=True)\n",
    "df_invoice = pl.read_csv(\"data/invoice_train.csv\", ignore_errors=True)\n",
    "\n",
    "# Merging\n",
    "df = df_invoice.join(df_client, on = \"client_id\")\n",
    "\n",
    "# Dropping duplicates\n",
    "duplicates = len(df) - len(df.unique())\n",
    "print(f\"Number of dropped duplicate rows: {duplicates}\")\n",
    "df = df.unique()\n",
    "\n",
    "# Converting counter_type from string to integer\n",
    "df = df.with_columns(pl.col([\"counter_type\"]).replace_strict({\"ELEC\": 1, \"GAZ\": 0}))\n",
    "\n",
    "# Cleaning counter_statue column\n",
    "df = df.filter(pl.col([\"counter_statue\"]) <=5)\n",
    "\n",
    "# Replace Nan with Null values\n",
    "df.with_columns(pl.col(pl.Float32, pl.Float64).fill_nan(None))\n",
    "\n",
    "# Null values\n",
    "nulls = int(df.null_count().sum_horizontal().to_numpy())\n",
    "print(f\"Number of nulls: {nulls}\")\n",
    "\n",
    "# Ruling out transactions earlier than 2005\n",
    "df = df.with_columns(pl.col([\"invoice_date\"]).str.to_datetime(format=\"%Y-%m-%d\"))\n",
    "df = df.with_columns(pl.col([\"creation_date\"]).str.to_datetime(format=\"%d/%m/%Y\"))\n",
    "\n",
    "# Chaning data type of target\n",
    "df = df.with_columns(df[\"target\"].cast(pl.Int8))\n",
    "\n",
    "# Overview of the data\n",
    "display(df)"
   ]
  },
  {
   "cell_type": "markdown",
   "metadata": {},
   "source": [
    "## Statistical Properties"
   ]
  },
  {
   "cell_type": "code",
   "execution_count": null,
   "metadata": {},
   "outputs": [],
   "source": [
    "# Statistical overview\n",
    "df.describe()"
   ]
  },
  {
   "cell_type": "markdown",
   "metadata": {},
   "source": [
    "### Electricity Fraud vs. Gas Fraud\n",
    "\n",
    "There is *much* more fraudulent activity in electricity than in gas. And obviously, there in much more non-fraudulent than fraudulent activity."
   ]
  },
  {
   "cell_type": "code",
   "execution_count": null,
   "metadata": {},
   "outputs": [],
   "source": [
    "sns.histplot(df, x = \"counter_type\", hue = \"target\");"
   ]
  },
  {
   "cell_type": "markdown",
   "metadata": {},
   "source": [
    "## Resampling\n",
    "\n",
    "Since our dataset is highly unbalanced, we *undersample* the majority class, i.e. non-fraudulent cases."
   ]
  },
  {
   "cell_type": "code",
   "execution_count": 3,
   "metadata": {},
   "outputs": [],
   "source": [
    "# Dropping features\n",
    "dropped_features = [\"client_id\",\"counter_number\",\"invoice_date\",\"target\"]\n",
    "\n",
    "# Defining target and features\n",
    "y = np.array(df[\"target\"])\n",
    "X = np.array(df.drop(dropped_features))\n",
    "\n",
    "# Splitting\n",
    "X_train, X_test, y_train, y_test = train_test_split(X, y, test_size=0.30, stratify=y, random_state=RSEED)\n",
    "\n",
    "# Assuming X_train, y_train are your feature and target datasets\n",
    "# Perform downsampling on the majority class\n",
    "X_downsampled, y_downsampled = resample(X_train[y_train == 0],\n",
    "                                         y_train[y_train == 0],\n",
    "                                         replace=False,\n",
    "                                         n_samples=np.sum(y_train == 1),\n",
    "                                         random_state=RSEED)\n",
    "\n",
    "# Concatenate the downsampled data with the minority class data\n",
    "X_balanced = np.concatenate((X_downsampled, X_train[y_train == 1]))\n",
    "y_balanced = np.concatenate((y_downsampled, y_train[y_train == 1]))"
   ]
  },
  {
   "cell_type": "markdown",
   "metadata": {},
   "source": [
    "## Baseline Model\n",
    "\n",
    "Our EDA gave no interesting results as to which feature could serve as a good baseline predictor. We therefore take a simple coinflip as baseline model."
   ]
  },
  {
   "cell_type": "code",
   "execution_count": null,
   "metadata": {},
   "outputs": [],
   "source": [
    "# Start timer\n",
    "t = time.time()\n",
    "\n",
    "# Creating column with coin flip results\n",
    "number_rows = len(y_test)\n",
    "y_test_pred_coin = np.random.randint(2, size=number_rows)\n",
    "\n",
    "# Stop timer\n",
    "elapsed = time.time() - t\n",
    "\n",
    "# Plotting \n",
    "cf_matrix = confusion_matrix(y_test,y_test_pred_coin)\n",
    "sns.heatmap(cf_matrix/np.sum(cf_matrix), annot=True, fmt='.2%', cmap='Blues')\n",
    "plt.title(\"Confusion Matrix for Coin Flip\")\n",
    "plt.xlabel(\"Predicted label\")\n",
    "plt.ylabel(\"True label\")\n",
    "plt.show()\n",
    "\n",
    "# Metrics\n",
    "roc_auc = roc_auc_score(y_test, y_test_pred_coin)\n",
    "tpr = recall_score(y_test, y_test_pred_coin)\n",
    "tnr = recall_score(y_test, y_test_pred_coin, pos_label=0)\n",
    "\n",
    "# Store metrics\n",
    "coint_metrics = pl.DataFrame({\n",
    "    \"Model\": \"Coin Flip\", \n",
    "    \"ROC-AUC\": [roc_auc], \n",
    "    \"True Positive Rate\": [tpr], \n",
    "    \"True Negative Rate\": [tnr],\n",
    "    \"Elapsed Time in Seconds\": [elapsed],\n",
    "})\n",
    "\n",
    "# \n",
    "coint_metrics"
   ]
  },
  {
   "cell_type": "markdown",
   "metadata": {},
   "source": [
    "## Testing Classifiers\n",
    "\n",
    "Tested Classifiers:\n",
    "\n",
    "1. KNN: prediction takes too much time because of dataset size.\n",
    "2. Decision Trees: good performance out-of-the-box, can be fine-tuned with good data-cleaning.\n",
    "3. Random Forests: slightly worse performance than Decision Trees, computational time okay.\n",
    "4. Extra Trees: slightly worse performance than Decision Trees, computational time short-\n",
    "3. K-Means: fast but poor classification performance.\n",
    "4. LightGBM: fast but poor performance.\n",
    "5. XGboost: fast but poor performance.\n",
    "6. Logistic Regression: fast computation, but poor performance.\n",
    "7. AdaBoost: slow and poor performance.\n",
    "8. SVM: very slow, cancelled after several hours.\n",
    "9. Naive Bayes Classifier: fast but poor performance.\n"
   ]
  },
  {
   "cell_type": "code",
   "execution_count": null,
   "metadata": {},
   "outputs": [],
   "source": [
    "# Model list\n",
    "models = {\n",
    "    \"Decision Tree\": DecisionTreeClassifier(),\n",
    "    \"Random Forest\": RandomForestClassifier(n_jobs=-1),\n",
    "    \"Extra Trees\": ExtraTreesClassifier(n_jobs=-1),\n",
    "    \"AdaBoost\": AdaBoostClassifier(),\n",
    "    \"LightGBM\": LGBMClassifier(n_jobs=-1,verbosity=-1),\n",
    "    \"XGBoost\": XGBClassifier(n_jobs=-1),\n",
    "    \"CatBoost\": CatBoostClassifier(verbose=0,),\n",
    "    \"Naive Bayes\": GaussianNB(),\n",
    "    \"Logistic Regression\": LogisticRegression(n_jobs=-1)\n",
    "}\n",
    "\n",
    "# Initiate storage for each model\n",
    "all_metrics = pl.DataFrame()\n",
    "\n",
    "# Loop through models\n",
    "for model_name, model in models.items():\n",
    "\n",
    "    # Start timer\n",
    "    t = time.time()\n",
    "\n",
    "    # Initializing and fitting pipeline with standard scaler\n",
    "    pipe = Pipeline([('scale', StandardScaler()),(model_name, model)]).fit(X_balanced, y_balanced)\n",
    "    \n",
    "    # Predict\n",
    "    y_test_pred = pipe.predict(X_test)\n",
    "    y_test_pred_prob = pipe.predict_proba(X_test)[:, 1] if hasattr(model, \"predict_proba\") else None\n",
    "\n",
    "    # Stop timer\n",
    "    elapsed = time.time() - t\n",
    "    \n",
    "    # # Confusion Matrix\n",
    "    # cf_matrix = confusion_matrix(y_test, y_test_pred)\n",
    "    \n",
    "    # # Plotting Confusion Matrix\n",
    "    # sns.heatmap(cf_matrix / cf_matrix.sum(axis=1)[:, np.newaxis], annot=True, fmt='.2%', cmap='Blues')\n",
    "    # plt.title(f\"Confusion Matrix for {model_name}\")\n",
    "    # plt.xlabel(\"Predicted label\")\n",
    "    # plt.ylabel(\"True label\")\n",
    "    # plt.show()\n",
    "    \n",
    "    # Metrics\n",
    "    roc_auc = roc_auc_score(y_test, y_test_pred_prob) if y_test_pred_prob is not None else None\n",
    "    tpr = recall_score(y_test, y_test_pred)\n",
    "    tnr = recall_score(y_test, y_test_pred, pos_label=0)\n",
    "    \n",
    "    # Store metrics\n",
    "    model_metrics = pl.DataFrame({\n",
    "        \"Model\": [model_name], \n",
    "        \"ROC-AUC\": [roc_auc], \n",
    "        \"True Positive Rate\": [tpr], \n",
    "        \"True Negative Rate\": [tnr],\n",
    "        \"Elapsed Time in Seconds\": [elapsed],\n",
    "    })\n",
    "    \n",
    "    # Concatenate\n",
    "    all_metrics = pl.concat([all_metrics, model_metrics])\n",
    "\n",
    "# Display metrics\n",
    "pl.Config.set_tbl_hide_column_data_types(True)  \n",
    "display(all_metrics)"
   ]
  },
  {
   "cell_type": "markdown",
   "metadata": {},
   "source": [
    "## Decision Tree Optimization\n",
    "\n",
    "Out of the box, a simple Decision Tree Classifier performs better than some more sophisticated models. Let us tune the hyperparameters of our Decision Tree Classifier to improve its performance even more."
   ]
  },
  {
   "cell_type": "code",
   "execution_count": null,
   "metadata": {},
   "outputs": [],
   "source": [
    "# Defining parameter grid (as dictionary)\n",
    "param_grid = {\"criterion\": [\"log_loss\"],\n",
    "            \"random_state\" : [RSEED],\n",
    "            \"max_depth\" : [None],\n",
    "              }\n",
    "\n",
    "# Instantiate and fit gridsearch\n",
    "gs = GridSearchCV(DecisionTreeClassifier(), param_grid, scoring=\"roc_auc\", cv=5, verbose=5, n_jobs=-1).fit(X_balanced, y_balanced)\n",
    "\n",
    "# Best results\n",
    "print('Best score:', round(gs.best_score_, 3))\n",
    "print('Best parameters:', gs.best_params_)\n",
    "\n",
    "# Predict\n",
    "y_test_pred = gs.best_estimator_.predict(X_test)\n",
    "y_test_pred_prob = gs.best_estimator_.predict_proba(X_test)[:, 1] if hasattr(gs.best_estimator_, \"predict_proba\") else None\n",
    "\n",
    "# Confusion Matrix\n",
    "cf_matrix = confusion_matrix(y_test, y_test_pred)\n",
    "\n",
    "# Plotting Confusion Matrix\n",
    "sns.heatmap(cf_matrix / cf_matrix.sum(axis=1)[:, np.newaxis], annot=True, fmt='.2%', cmap='Blues')\n",
    "plt.title(f\"Confusion Matrix for Optimized Decision Tree\")\n",
    "plt.xlabel(\"Predicted label\")\n",
    "plt.ylabel(\"True label\")\n",
    "plt.show()\n",
    "\n",
    "# Metrics\n",
    "roc_auc = roc_auc_score(y_test, y_test_pred_prob) if y_test_pred_prob is not None else None\n",
    "tpr = recall_score(y_test, y_test_pred)\n",
    "tnr = recall_score(y_test, y_test_pred, pos_label=0)\n",
    "\n",
    "# Store metrics\n",
    "model_metrics = pl.DataFrame({\n",
    "    \"Model\": [\"Optimized Decision Tree\"], \n",
    "    \"ROC-AUC\": [roc_auc], \n",
    "    \"True Positive Rate\": [tpr], \n",
    "    \"True Negative Rate\": [tnr],\n",
    "})\n",
    "\n",
    "# Present results\n",
    "pl.Config.set_tbl_hide_column_data_types(True)  \n",
    "display(model_metrics)"
   ]
  },
  {
   "cell_type": "markdown",
   "metadata": {},
   "source": [
    "## Random Forest Optimization"
   ]
  },
  {
   "cell_type": "code",
   "execution_count": 7,
   "metadata": {},
   "outputs": [
    {
     "name": "stdout",
     "output_type": "stream",
     "text": [
      "Fitting 5 folds for each of 1 candidates, totalling 5 fits\n"
     ]
    },
    {
     "name": "stdout",
     "output_type": "stream",
     "text": [
      "[CV 3/5] END max_depth=10, n_estimators=200, n_jobs=-1, random_state=12345;, score=0.705 total time= 1.8min\n",
      "[CV 1/5] END max_depth=10, n_estimators=200, n_jobs=-1, random_state=12345;, score=0.704 total time= 1.8min\n",
      "[CV 5/5] END max_depth=10, n_estimators=200, n_jobs=-1, random_state=12345;, score=0.708 total time= 1.8min\n",
      "[CV 2/5] END max_depth=10, n_estimators=200, n_jobs=-1, random_state=12345;, score=0.709 total time= 1.8min\n",
      "[CV 4/5] END max_depth=10, n_estimators=200, n_jobs=-1, random_state=12345;, score=0.706 total time= 1.9min\n",
      "Best score: 0.706\n",
      "Best parameters: {'max_depth': 10, 'n_estimators': 200, 'n_jobs': -1, 'random_state': 12345}\n"
     ]
    },
    {
     "data": {
      "image/png": "[encoded data removed]",
      "text/plain": [
       "<Figure size 640x480 with 2 Axes>"
      ]
     },
     "metadata": {},
     "output_type": "display_data"
    },
    {
     "data": {
      "text/html": [
       "<div><style>\n",
       ".dataframe > thead > tr,\n",
       ".dataframe > tbody > tr {\n",
       "  text-align: right;\n",
       "  white-space: pre-wrap;\n",
       "}\n",
       "</style>\n",
       "<small>shape: (1, 4)</small><table border=\"1\" class=\"dataframe\"><thead><tr><th>Model</th><th>ROC-AUC</th><th>True Positive Rate</th><th>True Negative Rate</th></tr></thead><tbody><tr><td>&quot;Optimized Random Forest&quot;</td><td>0.7063</td><td>0.691673</td><td>0.594615</td></tr></tbody></table></div>"
      ],
      "text/plain": [
       "shape: (1, 4)\n",
       "┌─────────────────────────┬─────────┬────────────────────┬────────────────────┐\n",
       "│ Model                   ┆ ROC-AUC ┆ True Positive Rate ┆ True Negative Rate │\n",
       "╞═════════════════════════╪═════════╪════════════════════╪════════════════════╡\n",
       "│ Optimized Random Forest ┆ 0.7063  ┆ 0.691673           ┆ 0.594615           │\n",
       "└─────────────────────────┴─────────┴────────────────────┴────────────────────┘"
      ]
     },
     "metadata": {},
     "output_type": "display_data"
    }
   ],
   "source": [
    "# Defining parameter grid (as dictionary)\n",
    "param_grid = {\"n_estimators\": [100,150],\n",
    "            \"criterion\" : [\"log_loss\"],\n",
    "            \"random_state\" : [RSEED],\n",
    "            \"n_jobs\": [-1],\n",
    "              }\n",
    "\n",
    "# Instantiate gridsearch and define the metric to optimize \n",
    "gs = GridSearchCV(RandomForestClassifier(), param_grid, scoring=\"roc_auc\", cv=5, verbose=5, n_jobs=-1).fit(X_balanced, y_balanced)\n",
    "\n",
    "# Best results\n",
    "print('Best score:', round(gs.best_score_, 3))\n",
    "print('Best parameters:', gs.best_params_)\n",
    "\n",
    "# Predict\n",
    "y_test_pred = gs.best_estimator_.predict(X_test)\n",
    "y_test_pred_prob = gs.best_estimator_.predict_proba(X_test)[:, 1] if hasattr(gs.best_estimator_, \"predict_proba\") else None\n",
    "\n",
    "# Confusion Matrix\n",
    "cf_matrix = confusion_matrix(y_test, y_test_pred)\n",
    "\n",
    "# Plotting Confusion Matrix\n",
    "sns.heatmap(cf_matrix / cf_matrix.sum(axis=1)[:, np.newaxis], annot=True, fmt='.2%', cmap='Blues')\n",
    "plt.title(f\"Confusion Matrix for Random Forest\")\n",
    "plt.xlabel(\"Predicted label\")\n",
    "plt.ylabel(\"True label\")\n",
    "plt.show()\n",
    "\n",
    "# Metrics\n",
    "roc_auc = roc_auc_score(y_test, y_test_pred_prob) if y_test_pred_prob is not None else None\n",
    "tpr = recall_score(y_test, y_test_pred)\n",
    "tnr = recall_score(y_test, y_test_pred, pos_label=0)\n",
    "\n",
    "# Store metrics\n",
    "model_metrics = pl.DataFrame({\n",
    "    \"Model\": [\"Optimized Random Forest\"], \n",
    "    \"ROC-AUC\": [roc_auc], \n",
    "    \"True Positive Rate\": [tpr], \n",
    "    \"True Negative Rate\": [tnr]\n",
    "})\n",
    "\n",
    "# Present results\n",
    "pl.Config.set_tbl_hide_column_data_types(True)  \n",
    "display(model_metrics)"
   ]
  },
  {
   "cell_type": "markdown",
   "metadata": {},
   "source": [
    "## XGBoost Optimization"
   ]
  },
  {
   "cell_type": "code",
   "execution_count": 4,
   "metadata": {},
   "outputs": [
    {
     "name": "stdout",
     "output_type": "stream",
     "text": [
      "Fitting 5 folds for each of 1 candidates, totalling 5 fits\n",
      "[CV 2/5] END learning_rate=0.3, max_depth=10, min_child_weight=1, n_estimators=1500, n_jobs=-1, random_state=12345;, score=0.882 total time= 2.2min\n",
      "[CV 1/5] END learning_rate=0.3, max_depth=10, min_child_weight=1, n_estimators=1500, n_jobs=-1, random_state=12345;, score=0.879 total time= 2.2min\n",
      "[CV 5/5] END learning_rate=0.3, max_depth=10, min_child_weight=1, n_estimators=1500, n_jobs=-1, random_state=12345;, score=0.880 total time= 2.2min\n",
      "[CV 3/5] END learning_rate=0.3, max_depth=10, min_child_weight=1, n_estimators=1500, n_jobs=-1, random_state=12345;, score=0.879 total time= 2.4min\n",
      "[CV 4/5] END learning_rate=0.3, max_depth=10, min_child_weight=1, n_estimators=1500, n_jobs=-1, random_state=12345;, score=0.878 total time= 2.5min\n",
      "Best score: 0.88\n",
      "Best parameters: {'learning_rate': 0.3, 'max_depth': 10, 'min_child_weight': 1, 'n_estimators': 1500, 'n_jobs': -1, 'random_state': 12345}\n"
     ]
    },
    {
     "data": {
      "image/png": "[encoded data removed]",
      "text/plain": [
       "<Figure size 640x480 with 2 Axes>"
      ]
     },
     "metadata": {},
     "output_type": "display_data"
    },
    {
     "data": {
      "text/html": [
       "<div><style>\n",
       ".dataframe > thead > tr,\n",
       ".dataframe > tbody > tr {\n",
       "  text-align: right;\n",
       "  white-space: pre-wrap;\n",
       "}\n",
       "</style>\n",
       "<small>shape: (1, 4)</small><table border=\"1\" class=\"dataframe\"><thead><tr><th>Model</th><th>ROC-AUC</th><th>True Positive Rate</th><th>True Negative Rate</th></tr></thead><tbody><tr><td>&quot;Optimized XGBoost&quot;</td><td>0.891098</td><td>0.830667</td><td>0.782283</td></tr></tbody></table></div>"
      ],
      "text/plain": [
       "shape: (1, 4)\n",
       "┌───────────────────┬──────────┬────────────────────┬────────────────────┐\n",
       "│ Model             ┆ ROC-AUC  ┆ True Positive Rate ┆ True Negative Rate │\n",
       "╞═══════════════════╪══════════╪════════════════════╪════════════════════╡\n",
       "│ Optimized XGBoost ┆ 0.891098 ┆ 0.830667           ┆ 0.782283           │\n",
       "└───────────────────┴──────────┴────────────────────┴────────────────────┘"
      ]
     },
     "metadata": {},
     "output_type": "display_data"
    }
   ],
   "source": [
    "# Defining parameter grid (as dictionary)\n",
    "param_grid = {\"n_estimators\": [1500],\n",
    "            \"max_depth\": [10],\n",
    "            'min_child_weight': [1],\n",
    "            \"random_state\" : [RSEED],\n",
    "            \"learning_rate\": [.3],\n",
    "            \"n_jobs\": [-1],\n",
    "              }\n",
    "\n",
    "# Instantiate gridsearch and define the metric to optimize \n",
    "gs = GridSearchCV(XGBClassifier(), param_grid, scoring=\"roc_auc\", cv=5, verbose=5, n_jobs=-1).fit(X_balanced, y_balanced)\n",
    "\n",
    "# Best results\n",
    "print('Best score:', round(gs.best_score_, 3))\n",
    "print('Best parameters:', gs.best_params_)\n",
    "\n",
    "# Predict\n",
    "y_test_pred = gs.best_estimator_.predict(X_test)\n",
    "y_test_pred_prob = gs.best_estimator_.predict_proba(X_test)[:, 1] if hasattr(gs.best_estimator_, \"predict_proba\") else None\n",
    "\n",
    "# Confusion Matrix\n",
    "cf_matrix = confusion_matrix(y_test, y_test_pred)\n",
    "\n",
    "# Plotting Confusion Matrix\n",
    "sns.heatmap(cf_matrix / cf_matrix.sum(axis=1)[:, np.newaxis], annot=True, fmt='.2%', cmap='Blues')\n",
    "plt.title(f\"Confusion Matrix for Optimized XGBoost\")\n",
    "plt.xlabel(\"Predicted label\")\n",
    "plt.ylabel(\"True label\")\n",
    "plt.show()\n",
    "\n",
    "# Metrics\n",
    "roc_auc = roc_auc_score(y_test, y_test_pred_prob) if y_test_pred_prob is not None else None\n",
    "tpr = recall_score(y_test, y_test_pred)\n",
    "tnr = recall_score(y_test, y_test_pred, pos_label=0)\n",
    "\n",
    "# Store metrics\n",
    "model_metrics = pl.DataFrame({\n",
    "    \"Model\": [\"Optimized XGBoost\"], \n",
    "    \"ROC-AUC\": [roc_auc], \n",
    "    \"True Positive Rate\": [tpr], \n",
    "    \"True Negative Rate\": [tnr]\n",
    "})\n",
    "\n",
    "# Present results\n",
    "pl.Config.set_tbl_hide_column_data_types(True)  \n",
    "display(model_metrics)"
   ]
  },
  {
   "cell_type": "code",
   "execution_count": null,
   "metadata": {},
   "outputs": [],
   "source": []
  },
  {
   "cell_type": "markdown",
   "metadata": {},
   "source": [
    "## Threshold Finetuning"
   ]
  },
  {
   "cell_type": "code",
   "execution_count": null,
   "metadata": {},
   "outputs": [],
   "source": [
    "# Plot AUC/ROC curve\n",
    "fpr, tpr, thresholds = roc_curve(y_test,  y_test_pred_prob)\n",
    "\n",
    "fig, ax = plt.subplots(figsize=(6,6))\n",
    "ax.plot(fpr, tpr)\n",
    "ax.set_title('ROC Curve for Tuned Decision Tree')\n",
    "ax.set_xlabel('False Positive Rate')\n",
    "ax.set_ylabel('True Positive Rate');"
   ]
  },
  {
   "cell_type": "markdown",
   "metadata": {},
   "source": [
    "## Feature Importance"
   ]
  },
  {
   "cell_type": "code",
   "execution_count": null,
   "metadata": {},
   "outputs": [],
   "source": [
    "# Getting feature importance plus labels\n",
    "feat_importance = gs.best_estimator_.feature_importances_\n",
    "x_labels = df.drop(dropped_features).columns\n",
    "\n",
    "pl.DataFrame({\"Feature\": x_labels, \"Importance\": feat_importance}).sort(by=\"Importance\",descending=True).head(10)"
   ]
  }
 ],
 "metadata": {
  "kernelspec": {
   "display_name": ".venv",
   "language": "python",
   "name": "python3"
  },
  "language_info": {
   "codemirror_mode": {
    "name": "ipython",
    "version": 3
   },
   "file_extension": ".py",
   "mimetype": "text/x-python",
   "name": "python",
   "nbconvert_exporter": "python",
   "pygments_lexer": "ipython3",
   "version": "3.11.3"
  }
 },
 "nbformat": 4,
 "nbformat_minor": 4
}
